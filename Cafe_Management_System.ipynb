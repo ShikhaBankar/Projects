{
  "nbformat": 4,
  "nbformat_minor": 0,
  "metadata": {
    "colab": {
      "provenance": []
    },
    "kernelspec": {
      "name": "python3",
      "display_name": "Python 3"
    },
    "language_info": {
      "name": "python"
    }
  },
  "cells": [
    {
      "cell_type": "code",
      "execution_count": 1,
      "metadata": {
        "id": "FNYJkbYMwJeM"
      },
      "outputs": [],
      "source": [
        "#Define the menu of restaurant\n",
        "menu = {\n",
        "    'Pizza':50,\n",
        "    'Pasta':60,\n",
        "    'Burger':70,\n",
        "    'Salad':40,\n",
        "    'Coffee':80\n",
        "}"
      ]
    },
    {
      "cell_type": "code",
      "source": [
        "print('Welcome to PYTHON Restaurant')\n",
        "print('Pizza : Rs.50\\nPasta : Rs.60\\nBurger : Rs.70\\nSalad : Rs.40\\nCoffee : Rs.80')"
      ],
      "metadata": {
        "colab": {
          "base_uri": "https://localhost:8080/"
        },
        "id": "fMIKwNaFikMl",
        "outputId": "3fb2e272-7999-497f-f0ed-65ef4d262193"
      },
      "execution_count": 2,
      "outputs": [
        {
          "output_type": "stream",
          "name": "stdout",
          "text": [
            "Welcome to PYTHON Restaurant\n",
            "Pizza : Rs.50\n",
            "Pasta : Rs.60\n",
            "Burger : Rs.70\n",
            "Salad : Rs.40\n",
            "Coffee : Rs.80\n"
          ]
        }
      ]
    },
    {
      "cell_type": "code",
      "source": [
        "order_total = 0\n",
        "item_1 = input('Enter the first item you want to order: ')\n",
        "\n",
        "if item_1 in menu:\n",
        "  order_total += menu[item_1]\n",
        "  print(f'Your item {item_1} has been added to your order')\n",
        "else:\n",
        "  print(f'Sorry, {item_1} is not available in our menu')\n",
        "\n",
        "another_item = input('Do you want to add another item? (yes/no): ')\n",
        "if another_item.lower() == 'yes':\n",
        "  item_2 = input('Enter the second item you want to order: ')\n",
        "  if item_2 in menu:\n",
        "    order_total += menu[item_2]\n",
        "    print(f'Your item {item_2} has been added to your order')\n",
        "  else:\n",
        "    print(f'Sorry, {item_2} is not available in our menu')\n",
        "\n",
        "print(f'The total amount of items to pay is {order_total}')"
      ],
      "metadata": {
        "colab": {
          "base_uri": "https://localhost:8080/"
        },
        "id": "CeKFv9mHjVcI",
        "outputId": "8918057c-5231-40b9-c234-3a447c771863"
      },
      "execution_count": 7,
      "outputs": [
        {
          "output_type": "stream",
          "name": "stdout",
          "text": [
            "Enter the first item you want to order: Pasta\n",
            "Your item Pasta has been added to your order\n",
            "Do you want to add another item? (yes/no): yes\n",
            "Enter the second item you want to order: Salad\n",
            "Your item Salad has been added to your order\n",
            "The total amount of items to pay is 100\n"
          ]
        }
      ]
    },
    {
      "cell_type": "code",
      "source": [],
      "metadata": {
        "id": "nP_Zl8JAj45s"
      },
      "execution_count": null,
      "outputs": []
    }
  ]
}